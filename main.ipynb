{
 "cells": [
  {
   "cell_type": "markdown",
   "metadata": {},
   "source": [
    "# Objective\n",
    "Simulate the rotor allocation for quadrotor in the event of single rotor failure (in eq.16) in arducopter SITL using Dronekit API"
   ]
  },
  {
   "cell_type": "code",
   "execution_count": null,
   "metadata": {},
   "outputs": [],
   "source": [
    "# Mavproxy command for running udp <--> udp connection\n",
    "# mavproxy.exe --master tcp:127.0.0.1:5760 --sitl 127.0.0.1:5501 --out 127.0.0.1:14550 --out 127.0.0.1:14551 --baudrate 921600"
   ]
  },
  {
   "cell_type": "code",
   "execution_count": null,
   "metadata": {},
   "outputs": [],
   "source": [
    "# Mavproxy command for running com port <--> udp connection\n",
    "# Windows\n",
    "# mavproxy.exe --master com3 --sitl 127.0.0.1:5501 --out 127.0.0.1:14550 --out 127.0.0.1:14551 --baudrate 921600\n",
    "# Linux\n",
    "# mavproxy.exe --master \\dev\\ttyUSB0,57600 --sitl 127.0.0.1:5501 --out 127.0.0.1:14550 --out 127.0.0.1:14551 --baudrate 921600"
   ]
  },
  {
   "cell_type": "markdown",
   "metadata": {},
   "source": [
    "### What the problem is\n",
    "-"
   ]
  },
  {
   "cell_type": "markdown",
   "metadata": {},
   "source": [
    "### How the problem is solved/ 1-motor failure is simulated\n",
    "-"
   ]
  },
  {
   "cell_type": "markdown",
   "metadata": {},
   "source": [
    "### Tests done/ what doesn't work\n",
    "-"
   ]
  },
  {
   "cell_type": "markdown",
   "metadata": {},
   "source": [
    "### Dummy code/function to test eq(16) motor PWM values to Uf, Tq, Tr (instantaneous):"
   ]
  },
  {
   "cell_type": "code",
   "execution_count": 5,
   "metadata": {},
   "outputs": [
    {
     "name": "stdout",
     "output_type": "stream",
     "text": [
      "[2356.94144661    0.         3142.58859548]\n",
      "uf:  2356.941446613089\n",
      "tq:  0.0\n",
      "tr:  3142.5885954841183\n"
     ]
    }
   ],
   "source": [
    "from scipy.interpolate import interp1d\n",
    "import numpy as np\n",
    "\n",
    "pwm_1 = 1800\n",
    "pwm_3 = 1800\n",
    "pwm_4 = 1800\n",
    "\n",
    "## Mappings for thrust to force\n",
    "## Used a sample thruster/motor for force calculation:\n",
    "## https://uav-en.tmotor.com/html/2018/u_0222/3.html\n",
    "## Prop size: 12*4CF\n",
    "# 50% - 350 G\n",
    "# 65% - 550 G\n",
    "# 75% - 700 G\n",
    "# 85% - 870 G\n",
    "# 100% - 1000 G\n",
    "x =  [1000, 1500, 1650, 1750, 1850, 2000]\n",
    "y = [0, 350, 550, 700, 870, 1000]\n",
    "\n",
    "# Function that maps motor PWM to Force in grams\n",
    "pwm_to_force = interp1d(x, y, 'cubic')\n",
    "\n",
    "## Since motor uses 12inch prop, min. required arm length = root(2) * half (arm length) = 1.414 * 100 cm - 30 > 0\n",
    "## arm length = 100 cm gives ~10cm + space\n",
    "# Arm Length (l)\n",
    "l = arm_length = 1\n",
    "# Drag to Thrust co-efficients of the blade (12*4CF)\n",
    "d = drag_thrust_co_efficient = 4\n",
    "\n",
    "left_matrix = np.array([[1, 1, 1], [-l, l, 0], [d, d, -d]])\n",
    "right_matrix = np.array([pwm_to_force(pwm_1), pwm_to_force(pwm_3), pwm_to_force(pwm_4)])\n",
    "force_matrix = np.dot(left_matrix,right_matrix)\n",
    "\n",
    "print(force_matrix)\n",
    "\n",
    "uf = force_matrix[0]\n",
    "tq = force_matrix[1]\n",
    "tr = force_matrix[2]\n",
    "\n",
    "print(\"uf: \", uf)\n",
    "print(\"tq: \", tq)\n",
    "print(\"tr: \", tr)"
   ]
  }
 ],
 "metadata": {
  "interpreter": {
   "hash": "b3ba2566441a7c06988d0923437866b63cedc61552a5af99d1f4fb67d367b25f"
  },
  "kernelspec": {
   "display_name": "Python 3.8.8 64-bit ('base': conda)",
   "language": "python",
   "name": "python3"
  },
  "language_info": {
   "codemirror_mode": {
    "name": "ipython",
    "version": 3
   },
   "file_extension": ".py",
   "mimetype": "text/x-python",
   "name": "python",
   "nbconvert_exporter": "python",
   "pygments_lexer": "ipython3",
   "version": "3.8.8"
  },
  "orig_nbformat": 4
 },
 "nbformat": 4,
 "nbformat_minor": 2
}
