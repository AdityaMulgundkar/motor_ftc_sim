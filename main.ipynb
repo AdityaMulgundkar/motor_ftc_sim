{
 "cells": [
  {
   "cell_type": "markdown",
   "metadata": {},
   "source": [
    "# Objective\n",
    "Simulate the rotor allocation for quadrotor in the event of single rotor failure (in eq.16) in arducopter SITL using Dronekit API"
   ]
  },
  {
   "cell_type": "code",
   "execution_count": null,
   "metadata": {},
   "outputs": [],
   "source": [
    "from dronekit import connect, VehicleMode, LocationGlobalRelative\n",
    "connection_string = \"\""
   ]
  },
  {
   "cell_type": "code",
   "execution_count": null,
   "metadata": {},
   "outputs": [],
   "source": [
    "#Start SITL if no connection string specified\n",
    "if not connection_string:\n",
    "    import dronekit_sitl\n",
    "    sitl = dronekit_sitl.start_default()\n",
    "    connection_string = sitl.connection_string()\n",
    "\n",
    "\n",
    "# Connect to the Vehicle. \n",
    "#   Set `wait_ready=True` to ensure default attributes are populated before `connect()` returns.\n",
    "print(\"\\nConnecting to vehicle on: %s\" % connection_string)\n",
    "vehicle = connect(connection_string, wait_ready=True)\n",
    "\n",
    "# Set mode to guided - this is optional as the goto method will change the mode if needed.\n",
    "vehicle.mode = VehicleMode(\"GUIDED\")\n",
    "\n",
    "print(\"start path\")\n",
    "# Set the target location in global-relative frame\n",
    "a_location = LocationGlobalRelative(-34.364114, 149.166022, 30)\n",
    "vehicle.simple_goto(a_location)\n",
    "print(\"end path\")"
   ]
  }
 ],
 "metadata": {
  "interpreter": {
   "hash": "b3ba2566441a7c06988d0923437866b63cedc61552a5af99d1f4fb67d367b25f"
  },
  "kernelspec": {
   "display_name": "Python 3.8.8 64-bit ('base': conda)",
   "language": "python",
   "name": "python3"
  },
  "language_info": {
   "codemirror_mode": {
    "name": "ipython",
    "version": 3
   },
   "file_extension": ".py",
   "mimetype": "text/x-python",
   "name": "python",
   "nbconvert_exporter": "python",
   "pygments_lexer": "ipython3",
   "version": "3.8.8"
  },
  "orig_nbformat": 4
 },
 "nbformat": 4,
 "nbformat_minor": 2
}
