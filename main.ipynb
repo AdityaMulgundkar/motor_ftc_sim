{
 "cells": [
  {
   "cell_type": "markdown",
   "metadata": {},
   "source": [
    "# Objective\n",
    "Simulate the rotor allocation for quadrotor in the event of single rotor failure (in eq.16) in arducopter SITL using Dronekit API"
   ]
  },
  {
   "cell_type": "code",
   "execution_count": null,
   "metadata": {},
   "outputs": [],
   "source": [
    "from dronekit import connect, VehicleMode, LocationGlobalRelative\n",
    "connection_string = \"127.0.0.1:14551\""
   ]
  },
  {
   "cell_type": "code",
   "execution_count": null,
   "metadata": {},
   "outputs": [],
   "source": [
    "#Start SITL if no connection string specified\n",
    "\n",
    "# Connect to the Vehicle. \n",
    "#   Set `wait_ready=True` to ensure default attributes are populated before `connect()` returns.\n",
    "print(\"\\nConnecting to vehicle on: %s\" % connection_string)\n",
    "vehicle = connect(connection_string, wait_ready=True)\n",
    "\n",
    "# Set mode to guided - this is optional as the goto method will change the mode if needed.\n",
    "vehicle.mode = VehicleMode(\"GUIDED\")"
   ]
  },
  {
   "cell_type": "code",
   "execution_count": null,
   "metadata": {},
   "outputs": [],
   "source": [
    "#mavproxy.exe --master tcp:127.0.0.1:5760 --sitl 127.0.0.1:5501 --out 127.0.0.1:14550 --out 127.0.0.1:14551 --baudrate 921600"
   ]
  },
  {
   "cell_type": "code",
   "execution_count": 2,
   "metadata": {},
   "outputs": [
    {
     "name": "stderr",
     "output_type": "stream",
     "text": [
      "usage: ipykernel_launcher.py [-h] [--connect CONNECT]\n",
      "ipykernel_launcher.py: error: unrecognized arguments: --ip=127.0.0.1 --stdin=9008 --control=9006 --hb=9005 --Session.signature_scheme=\"hmac-sha256\" --Session.key=b\"263a2dd6-c588-44e2-aa2b-5116cf1b4ad3\" --shell=9007 --transport=\"tcp\" --iopub=9009 --f=C:\\Users\\adity\\AppData\\Local\\Temp\\tmp-19324FFFycc82o0HZ.json\n"
     ]
    },
    {
     "ename": "SystemExit",
     "evalue": "2",
     "output_type": "error",
     "traceback": [
      "An exception has occurred, use %tb to see the full traceback.\n",
      "\u001b[1;31mSystemExit\u001b[0m\u001b[1;31m:\u001b[0m 2\n"
     ]
    },
    {
     "name": "stderr",
     "output_type": "stream",
     "text": [
      "C:\\ProgramData\\Anaconda3\\lib\\site-packages\\IPython\\core\\interactiveshell.py:3445: UserWarning: To exit: use 'exit', 'quit', or Ctrl-D.\n",
      "  warn(\"To exit: use 'exit', 'quit', or Ctrl-D.\", stacklevel=1)\n"
     ]
    }
   ],
   "source": [
    "from dronekit import connect, VehicleMode, LocationGlobalRelative\n",
    "from pymavlink import mavutil\n",
    "import time\n",
    "import argparse  \n",
    "parser = argparse.ArgumentParser()\n",
    "parser.add_argument('--connect', default='127.0.0.1:14550')\n",
    "args = parser.parse_args()\n",
    "connection_string = '127.0.0.1:14451'\n",
    "\n",
    "if not connection_string:\n",
    "  connection_string = args.connect\n",
    "\n",
    "# Connect to the Vehicle\n",
    "print ('Connecting to vehicle on: %s' % args.connect)\n",
    "vehicle = connect(connection_string, baud=921600, wait_ready=True)\n",
    "#921600 is the baudrate that you have set in the mission plannar or qgc\n",
    "\n",
    "# Function to arm and then takeoff to a user specified altitude\n",
    "def arm_and_takeoff(aTargetAltitude):\n",
    "\n",
    "  print (\"Basic pre-arm checks\")\n",
    "  # Don't let the user try to arm until autopilot is ready\n",
    "  while not vehicle.is_armable:\n",
    "    print (\" Waiting for vehicle to initialise...\")\n",
    "    time.sleep(1)\n",
    "        \n",
    "  print (\"Arming motors\")\n",
    "  # Copter should arm in GUIDED mode\n",
    "  vehicle.mode    = VehicleMode(\"GUIDED\")\n",
    "  vehicle.armed   = True\n",
    "\n",
    "  while not vehicle.armed:\n",
    "    print (\" Waiting for arming...\")\n",
    "    time.sleep(1)\n",
    "\n",
    "  print (\"Taking off!\")\n",
    "  vehicle.simple_takeoff(aTargetAltitude) # Take off to target altitude\n",
    "\n",
    "  # Check that vehicle has reached takeoff altitude\n",
    "  while True:\n",
    "    print (\" Altitude: \", vehicle.location.global_relative_frame.alt )\n",
    "    #Break and return from function just below target altitude.        \n",
    "    if vehicle.location.global_relative_frame.alt>=aTargetAltitude*0.95: \n",
    "      print (\"Reached target altitude\")\n",
    "      break\n",
    "    time.sleep(1)\n",
    "\n",
    "# Initialize the takeoff sequence to 15m\n",
    "arm_and_takeoff(15)\n",
    "\n",
    "print(\"Take off complete\")\n",
    "\n",
    "# Hover for 10 seconds\n",
    "time.sleep(15)\n",
    "\n",
    "print(\"Now let's land\")\n",
    "vehicle.mode = VehicleMode(\"LAND\")\n",
    "\n",
    "# Close vehicle object\n",
    "vehicle.close()"
   ]
  }
 ],
 "metadata": {
  "interpreter": {
   "hash": "b3ba2566441a7c06988d0923437866b63cedc61552a5af99d1f4fb67d367b25f"
  },
  "kernelspec": {
   "display_name": "Python 3.8.8 64-bit ('base': conda)",
   "language": "python",
   "name": "python3"
  },
  "language_info": {
   "codemirror_mode": {
    "name": "ipython",
    "version": 3
   },
   "file_extension": ".py",
   "mimetype": "text/x-python",
   "name": "python",
   "nbconvert_exporter": "python",
   "pygments_lexer": "ipython3",
   "version": "3.8.8"
  },
  "orig_nbformat": 4
 },
 "nbformat": 4,
 "nbformat_minor": 2
}
