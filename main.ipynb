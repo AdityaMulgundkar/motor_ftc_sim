{
 "cells": [
  {
   "cell_type": "markdown",
   "metadata": {},
   "source": [
    "# Objective\n",
    "Simulate the rotor allocation for quadrotor in the event of single rotor failure (in eq.16) in arducopter SITL using Dronekit API"
   ]
  },
  {
   "cell_type": "code",
   "execution_count": null,
   "metadata": {},
   "outputs": [],
   "source": [
    "# Mavproxy command for running udp <--> udp connection\n",
    "# mavproxy.exe --master tcp:127.0.0.1:5760 --sitl 127.0.0.1:5501 --out 127.0.0.1:14550 --out 127.0.0.1:14551 --baudrate 921600"
   ]
  },
  {
   "cell_type": "code",
   "execution_count": null,
   "metadata": {},
   "outputs": [],
   "source": [
    "# Mavproxy command for running com port <--> udp connection\n",
    "# Windows\n",
    "# mavproxy.exe --master com3 --sitl 127.0.0.1:5501 --out 127.0.0.1:14550 --out 127.0.0.1:14551 --baudrate 921600\n",
    "# Linux\n",
    "# mavproxy.exe --master \\dev\\ttyUSB0,57600 --sitl 127.0.0.1:5501 --out 127.0.0.1:14550 --out 127.0.0.1:14551 --baudrate 921600"
   ]
  },
  {
   "cell_type": "markdown",
   "metadata": {},
   "source": [
    "### What the problem is\n",
    "- Multiple issues/PRs related to \"controlling a single motor with PWM value/ speed range\"\n",
    "    - https://github.com/ArduPilot/ardupilot/issues/9796 - Open\n",
    "    - https://github.com/PX4/PX4-Autopilot/pull/13240 - Open\n",
    "    - https://github.com/dronekit/dronekit-sitl/issues/139 - Open\n",
    "    - the list goes on.\n",
    "- Existing mavlink command MAV_CMD_DO_SET_SERVO **does not work** when the drone is controlled by the PX4 controller.\n",
    "    - i.e. it throws an error when you try the command on motors 1,2,3,4 (in case of quadcopter)\n",
    "- Need to find a solution without playing too much with the firmware or without sacrificing a lot of ArduPilot functionalities"
   ]
  },
  {
   "cell_type": "markdown",
   "metadata": {},
   "source": [
    "### How the problem is solved/ 1-motor failure is simulated\n",
    "- Hacky solution was recently listed here (~ October 2021) - https://discuss.bluerobotics.com/t/how-to-control-thrusters-independently/9870/11\n",
    "- Some versions of firmware (ArduPilot's newer ones specifically) have **parameters** for changing what the Servo output does.\n",
    "    - e.g. SERVO1_FUNCTION can be set to\n",
    "        - 0 for Disabled - meaning it will be controlled by the PX4 normally\n",
    "        - 1 for RCPassThru - meaning internal controller will be skipped, but joystick input will be directly mapped to motor PWM\n",
    "        - and so on\n",
    "- Setting the parameter SERVO1_FUNCTION to 1 (RCPassThru) and then using MAV_CMD_DO_SET_SERVO works fine"
   ]
  },
  {
   "cell_type": "markdown",
   "metadata": {},
   "source": [
    "### Cons of using this method:\n",
    "- Complete control removed from controller - so you can't send a command from QGC/Mission Planner.\n",
    "- Can only send command manually through our code.\n",
    "- Parameters (such as SERVO1_FUNCTION) are stored inside EEPROM.\n",
    "    - Parameters are loaded after device restart from EEPROM, so setting them once is setting them persistently.\n",
    "    - This means, no arming/disarming sequence is required.\n",
    "    - If you forget the reset the parameter value before shutting device down, and you accidentally touch the joystick the next time you are using the device, it will start moving, without any arming/disarming."
   ]
  },
  {
   "cell_type": "markdown",
   "metadata": {},
   "source": [
    "### Tests done/ what doesn't work\n",
    "- dir(esalexander) - sample code provided for Autopilot override sequence using hack mentioned above. Code has failsafes and is only for demonstration for a few seconds. It does work. I have implemented the bare minimum similar code from this.\n",
    "- test_rc_passthru - bare bones implementation of above hack. **This one works.**\n",
    "- dir(pymavlink) - used for reading parameter values and writing them. Useful since many firmwares **did not** have the required parameters. No need to connect over UI. Can headlessly test over firmware version by running in SITL and checking if it has reqd params.\n",
    "- manual_control - mavsdk demo for manual control. Useless.\n",
    "- quadrotor_vars - dummy code.\n",
    "- test_failure - mavsdk has capability to inject failure. But failure fails in case it is done on a motor that is already in use by the PX4 (1,2,3,4 in our case)\n",
    "- test_mavproxy - test to see if MAV_CMD_DO_SET_SERVO works in a long_command mavlink message instead of a direct set_servo message. Error given is same, since motor is already in use.\n",
    "- test1 - test for motor testing commmand MAV_CMD_DO_MOTOR_TEST. Fails since motor is already in use. Can only be used from QGC GUI, where a lock is set in before testing a single motor. Useless because it only lets you test one single motor, and you cannot use it on multiple at the same time\n",
    "- test2 - basic RC override test. Fails because RC overrides functions actually map the roll, pitch, yaw, ... angles instead of the actual motor PWM 1, PWM 2, PWM 3, ... So directly overriding gives a wild behaviour, since, for e.g., roll value mapped to single motor.\n",
    "- test3 - attitude setting test using quaternion. Useless since it still uses roll, pitch, yaw input values.\n",
    "- test4 - copy of pymavlink test\n",
    "- test5 - dummy code"
   ]
  },
  {
   "cell_type": "markdown",
   "metadata": {},
   "source": [
    "### Dummy code/function to test eq(16) motor PWM values to Uf, Tq, Tr (instantaneous):"
   ]
  },
  {
   "cell_type": "code",
   "execution_count": 6,
   "metadata": {},
   "outputs": [
    {
     "name": "stdout",
     "output_type": "stream",
     "text": [
      "[2356.94144661    0.         3142.58859548]\n",
      "uf:  2356.941446613089\n",
      "tq:  0.0\n",
      "tr:  3142.5885954841183\n"
     ]
    }
   ],
   "source": [
    "from scipy.interpolate import interp1d\n",
    "import numpy as np\n",
    "\n",
    "pwm_1 = 1800\n",
    "pwm_3 = 1800\n",
    "pwm_4 = 1800\n",
    "\n",
    "## Mappings for thrust to force\n",
    "## Used a sample thruster/motor for force calculation:\n",
    "## https://uav-en.tmotor.com/html/2018/u_0222/3.html\n",
    "## Prop size: 12*4CF\n",
    "# 50% - 350 G\n",
    "# 65% - 550 G\n",
    "# 75% - 700 G\n",
    "# 85% - 870 G\n",
    "# 100% - 1000 G\n",
    "x =  [1000, 1500, 1650, 1750, 1850, 2000]\n",
    "y = [0, 350, 550, 700, 870, 1000]\n",
    "\n",
    "# Function that maps motor PWM to Force in grams\n",
    "pwm_to_force = interp1d(x, y, 'cubic')\n",
    "\n",
    "## Since motor uses 12inch prop, min. required arm length = root(2) * half (arm length) = 1.414 * 100 cm - 30 > 0\n",
    "## arm length = 100 cm gives ~10cm + space\n",
    "# Arm Length (l)\n",
    "l = arm_length = 1\n",
    "# Drag to Thrust co-efficients of the blade (12*4CF)\n",
    "d = drag_thrust_co_efficient = 4\n",
    "\n",
    "left_matrix = np.array([[1, 1, 1], [-l, l, 0], [d, d, -d]])\n",
    "right_matrix = np.array([pwm_to_force(pwm_1), pwm_to_force(pwm_3), pwm_to_force(pwm_4)])\n",
    "force_matrix = np.dot(left_matrix,right_matrix)\n",
    "\n",
    "print(force_matrix)\n",
    "\n",
    "uf = force_matrix[0]\n",
    "tq = force_matrix[1]\n",
    "tr = force_matrix[2]\n",
    "\n",
    "print(\"uf: \", uf)\n",
    "print(\"tq: \", tq)\n",
    "print(\"tr: \", tr)"
   ]
  }
 ],
 "metadata": {
  "interpreter": {
   "hash": "b3ba2566441a7c06988d0923437866b63cedc61552a5af99d1f4fb67d367b25f"
  },
  "kernelspec": {
   "display_name": "Python 3.8.8 64-bit ('base': conda)",
   "language": "python",
   "name": "python3"
  },
  "language_info": {
   "codemirror_mode": {
    "name": "ipython",
    "version": 3
   },
   "file_extension": ".py",
   "mimetype": "text/x-python",
   "name": "python",
   "nbconvert_exporter": "python",
   "pygments_lexer": "ipython3",
   "version": "3.8.8"
  },
  "orig_nbformat": 4
 },
 "nbformat": 4,
 "nbformat_minor": 2
}
